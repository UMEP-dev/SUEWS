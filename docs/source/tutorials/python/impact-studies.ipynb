{
 "cells": [
  {
   "cell_type": "markdown",
   "metadata": {},
   "source": [
    "# Impact Studies Using SuPy"
   ]
  },
  {
   "cell_type": "markdown",
   "metadata": {},
   "source": [
    "## Aim"
   ]
  },
  {
   "cell_type": "markdown",
   "metadata": {},
   "source": [
    "In this tutorial, we aim to perform sensitivity analysis using `supy` in a parallel mode to investigate the impacts on urban climate of\n",
    "\n",
    "1. surface properties: the physical attributes of land covers (e.g., albedo, water holding capacity, etc.)\n",
    "2. background climate: longterm meteorological conditions (e.g., air temperature, precipitation, etc.)\n",
    "\n"
   ]
  },
  {
   "cell_type": "markdown",
   "metadata": {},
   "source": [
    "### load `supy` and sample dataset"
   ]
  },
  {
   "cell_type": "code",
   "execution_count": 2,
   "metadata": {
    "ExecuteTime": {
     "end_time": "2020-07-05T23:34:56.307867Z",
     "start_time": "2020-07-05T23:34:55.334157Z"
    }
   },
   "outputs": [],
   "source": [
    "import supy as sp\n",
    "\n",
    "import pandas as pd\n",
    "import numpy as np\n",
    "\n",
    "from time import time\n"
   ]
  },
  {
   "cell_type": "code",
   "execution_count": 3,
   "metadata": {
    "ExecuteTime": {
     "end_time": "2020-07-05T23:35:46.948451Z",
     "start_time": "2020-07-05T23:35:28.803603Z"
    }
   },
   "outputs": [
    {
     "name": "stdout",
     "output_type": "stream",
     "text": [
      "2025-06-15 22:55:57,634 - SuPy - INFO - Loading config from yaml\n",
      "📊 Sample data loaded using modern load_sample_data() API\n",
      "✅ Ready for impact studies\n",
      "2025-06-15 22:55:59,602 - SuPy - INFO - ====================\n",
      "2025-06-15 22:55:59,602 - SuPy - INFO - SUEWS version: 2025.6.2.dev99\n",
      "2025-06-15 22:55:59,602 - SuPy - INFO - Simulation period:\n",
      "2025-06-15 22:55:59,603 - SuPy - INFO -   Start: 2012-01-01 00:10:00\n",
      "2025-06-15 22:55:59,603 - SuPy - INFO -   End: 2012-12-31 23:55:00\n",
      "2025-06-15 22:55:59,603 - SuPy - INFO - \n",
      "2025-06-15 22:55:59,603 - SuPy - INFO - No. of grids: 1\n",
      "2025-06-15 22:55:59,604 - SuPy - INFO - SUEWS is running in serial mode\n",
      "2025-06-15 22:56:05,665 - SuPy - INFO - Execution time: 6.1 s\n",
      "2025-06-15 22:56:05,666 - SuPy - INFO - ====================\n",
      "\n"
     ]
    }
   ],
   "source": [
    "# Load sample datasets using modern API\n",
    "df_state_init, df_forcing = sp.load_sample_data()\n",
    "\n",
    "print(\"📊 Sample data loaded using modern load_sample_data() API\")\n",
    "print(\"✅ Ready for impact studies\")\n",
    "\n",
    "# by default, two years of forcing data are included;\n",
    "# to save running time for demonstration, we only use one year in this demo\n",
    "df_forcing = df_forcing.loc[\"2012\"].iloc[1:]\n",
    "\n",
    "# perform an example run to get output samples for later use\n",
    "df_output, df_state_final = sp.run_supy(df_forcing, df_state_init)"
   ]
  },
  {
   "cell_type": "markdown",
   "metadata": {},
   "source": [
    "## Surface properties: surface albedo"
   ]
  },
  {
   "cell_type": "markdown",
   "metadata": {},
   "source": [
    "### Examine the default albedo values loaded from the sample dataset"
   ]
  },
  {
   "cell_type": "code",
   "execution_count": 4,
   "metadata": {
    "ExecuteTime": {
     "end_time": "2020-07-05T23:35:46.969885Z",
     "start_time": "2020-07-05T23:35:46.950578Z"
    }
   },
   "outputs": [
    {
     "data": {
      "text/html": [
       "<div>\n",
       "<style scoped>\n",
       "    .dataframe tbody tr th:only-of-type {\n",
       "        vertical-align: middle;\n",
       "    }\n",
       "\n",
       "    .dataframe tbody tr th {\n",
       "        vertical-align: top;\n",
       "    }\n",
       "\n",
       "    .dataframe thead th {\n",
       "        text-align: right;\n",
       "    }\n",
       "</style>\n",
       "<table border=\"1\" class=\"dataframe\">\n",
       "  <thead>\n",
       "    <tr style=\"text-align: right;\">\n",
       "      <th>ind_dim</th>\n",
       "      <th>(0,)</th>\n",
       "      <th>(1,)</th>\n",
       "      <th>(2,)</th>\n",
       "      <th>(3,)</th>\n",
       "      <th>(4,)</th>\n",
       "      <th>(5,)</th>\n",
       "      <th>(6,)</th>\n",
       "    </tr>\n",
       "    <tr>\n",
       "      <th>grid</th>\n",
       "      <th></th>\n",
       "      <th></th>\n",
       "      <th></th>\n",
       "      <th></th>\n",
       "      <th></th>\n",
       "      <th></th>\n",
       "      <th></th>\n",
       "    </tr>\n",
       "  </thead>\n",
       "  <tbody>\n",
       "    <tr>\n",
       "      <th>1</th>\n",
       "      <td>0.1</td>\n",
       "      <td>0.12</td>\n",
       "      <td>0.1</td>\n",
       "      <td>0.18</td>\n",
       "      <td>0.21</td>\n",
       "      <td>0.18</td>\n",
       "      <td>0.1</td>\n",
       "    </tr>\n",
       "  </tbody>\n",
       "</table>\n",
       "</div>"
      ],
      "text/plain": [
       "ind_dim  (0,)  (1,)  (2,)  (3,)  (4,)  (5,)  (6,)\n",
       "grid                                             \n",
       "1         0.1  0.12   0.1  0.18  0.21  0.18   0.1"
      ]
     },
     "execution_count": 4,
     "metadata": {},
     "output_type": "execute_result"
    }
   ],
   "source": [
    "df_state_init.alb"
   ]
  },
  {
   "cell_type": "markdown",
   "metadata": {},
   "source": [
    "### Copy the initial condition `DataFrame`  to have a *clean slate* for our study\n",
    "\n",
    "Note: `DataFrame.copy()` defaults to `deepcopy`"
   ]
  },
  {
   "cell_type": "code",
   "execution_count": 5,
   "metadata": {
    "ExecuteTime": {
     "end_time": "2020-07-05T23:35:46.975214Z",
     "start_time": "2020-07-05T23:35:46.972332Z"
    }
   },
   "outputs": [],
   "source": [
    "df_state_init_test = df_state_init.copy()\n"
   ]
  },
  {
   "cell_type": "markdown",
   "metadata": {},
   "source": [
    "### Set the `Bldg` land cover to 99% and `Paved` to 1% for this study"
   ]
  },
  {
   "cell_type": "code",
   "execution_count": 6,
   "metadata": {
    "ExecuteTime": {
     "end_time": "2020-07-05T23:35:49.654597Z",
     "start_time": "2020-07-05T23:35:49.638647Z"
    }
   },
   "outputs": [
    {
     "data": {
      "text/html": [
       "<div>\n",
       "<style scoped>\n",
       "    .dataframe tbody tr th:only-of-type {\n",
       "        vertical-align: middle;\n",
       "    }\n",
       "\n",
       "    .dataframe tbody tr th {\n",
       "        vertical-align: top;\n",
       "    }\n",
       "\n",
       "    .dataframe thead th {\n",
       "        text-align: right;\n",
       "    }\n",
       "</style>\n",
       "<table border=\"1\" class=\"dataframe\">\n",
       "  <thead>\n",
       "    <tr style=\"text-align: right;\">\n",
       "      <th>ind_dim</th>\n",
       "      <th>(0,)</th>\n",
       "      <th>(1,)</th>\n",
       "      <th>(2,)</th>\n",
       "      <th>(3,)</th>\n",
       "      <th>(4,)</th>\n",
       "      <th>(5,)</th>\n",
       "      <th>(6,)</th>\n",
       "    </tr>\n",
       "    <tr>\n",
       "      <th>grid</th>\n",
       "      <th></th>\n",
       "      <th></th>\n",
       "      <th></th>\n",
       "      <th></th>\n",
       "      <th></th>\n",
       "      <th></th>\n",
       "      <th></th>\n",
       "    </tr>\n",
       "  </thead>\n",
       "  <tbody>\n",
       "    <tr>\n",
       "      <th>1</th>\n",
       "      <td>0.01</td>\n",
       "      <td>0.99</td>\n",
       "      <td>0</td>\n",
       "      <td>0</td>\n",
       "      <td>0</td>\n",
       "      <td>0</td>\n",
       "      <td>0</td>\n",
       "    </tr>\n",
       "  </tbody>\n",
       "</table>\n",
       "</div>"
      ],
      "text/plain": [
       "ind_dim  (0,)  (1,)  (2,)  (3,)  (4,)  (5,)  (6,)\n",
       "grid                                             \n",
       "1        0.01  0.99     0     0     0     0     0"
      ]
     },
     "execution_count": 6,
     "metadata": {},
     "output_type": "execute_result"
    }
   ],
   "source": [
    "df_state_init_test.sfr_surf = 0\n",
    "df_state_init_test.loc[:, (\"sfr_surf\", \"(1,)\")] = 0.99\n",
    "df_state_init_test.loc[:, (\"sfr_surf\", \"(0,)\")] = 0.01\n",
    "df_state_init_test.sfr_surf\n"
   ]
  },
  {
   "cell_type": "markdown",
   "metadata": {},
   "source": [
    "### Construct a `df_state_init_x` dataframe to perform  `supy` simulations with specified albedo"
   ]
  },
  {
   "cell_type": "code",
   "execution_count": 8,
   "metadata": {
    "ExecuteTime": {
     "end_time": "2020-07-05T23:35:54.625505Z",
     "start_time": "2020-07-05T23:35:54.566112Z"
    }
   },
   "outputs": [
    {
     "data": {
      "text/html": [
       "<div>\n",
       "<style scoped>\n",
       "    .dataframe tbody tr th:only-of-type {\n",
       "        vertical-align: middle;\n",
       "    }\n",
       "\n",
       "    .dataframe tbody tr th {\n",
       "        vertical-align: top;\n",
       "    }\n",
       "\n",
       "    .dataframe thead th {\n",
       "        text-align: right;\n",
       "    }\n",
       "</style>\n",
       "<table border=\"1\" class=\"dataframe\">\n",
       "  <thead>\n",
       "    <tr style=\"text-align: right;\">\n",
       "      <th>ind_dim</th>\n",
       "      <th>(0,)</th>\n",
       "      <th>(1,)</th>\n",
       "      <th>(2,)</th>\n",
       "      <th>(3,)</th>\n",
       "      <th>(4,)</th>\n",
       "      <th>(5,)</th>\n",
       "      <th>(6,)</th>\n",
       "    </tr>\n",
       "    <tr>\n",
       "      <th>grid</th>\n",
       "      <th></th>\n",
       "      <th></th>\n",
       "      <th></th>\n",
       "      <th></th>\n",
       "      <th></th>\n",
       "      <th></th>\n",
       "      <th></th>\n",
       "    </tr>\n",
       "  </thead>\n",
       "  <tbody>\n",
       "    <tr>\n",
       "      <th>0.10</th>\n",
       "      <td>0.1</td>\n",
       "      <td>0.10</td>\n",
       "      <td>0.1</td>\n",
       "      <td>0.18</td>\n",
       "      <td>0.21</td>\n",
       "      <td>0.18</td>\n",
       "      <td>0.1</td>\n",
       "    </tr>\n",
       "    <tr>\n",
       "      <th>0.18</th>\n",
       "      <td>0.1</td>\n",
       "      <td>0.18</td>\n",
       "      <td>0.1</td>\n",
       "      <td>0.18</td>\n",
       "      <td>0.21</td>\n",
       "      <td>0.18</td>\n",
       "      <td>0.1</td>\n",
       "    </tr>\n",
       "    <tr>\n",
       "      <th>0.26</th>\n",
       "      <td>0.1</td>\n",
       "      <td>0.26</td>\n",
       "      <td>0.1</td>\n",
       "      <td>0.18</td>\n",
       "      <td>0.21</td>\n",
       "      <td>0.18</td>\n",
       "      <td>0.1</td>\n",
       "    </tr>\n",
       "    <tr>\n",
       "      <th>0.33</th>\n",
       "      <td>0.1</td>\n",
       "      <td>0.33</td>\n",
       "      <td>0.1</td>\n",
       "      <td>0.18</td>\n",
       "      <td>0.21</td>\n",
       "      <td>0.18</td>\n",
       "      <td>0.1</td>\n",
       "    </tr>\n",
       "    <tr>\n",
       "      <th>0.41</th>\n",
       "      <td>0.1</td>\n",
       "      <td>0.41</td>\n",
       "      <td>0.1</td>\n",
       "      <td>0.18</td>\n",
       "      <td>0.21</td>\n",
       "      <td>0.18</td>\n",
       "      <td>0.1</td>\n",
       "    </tr>\n",
       "    <tr>\n",
       "      <th>0.49</th>\n",
       "      <td>0.1</td>\n",
       "      <td>0.49</td>\n",
       "      <td>0.1</td>\n",
       "      <td>0.18</td>\n",
       "      <td>0.21</td>\n",
       "      <td>0.18</td>\n",
       "      <td>0.1</td>\n",
       "    </tr>\n",
       "    <tr>\n",
       "      <th>0.57</th>\n",
       "      <td>0.1</td>\n",
       "      <td>0.57</td>\n",
       "      <td>0.1</td>\n",
       "      <td>0.18</td>\n",
       "      <td>0.21</td>\n",
       "      <td>0.18</td>\n",
       "      <td>0.1</td>\n",
       "    </tr>\n",
       "    <tr>\n",
       "      <th>0.64</th>\n",
       "      <td>0.1</td>\n",
       "      <td>0.64</td>\n",
       "      <td>0.1</td>\n",
       "      <td>0.18</td>\n",
       "      <td>0.21</td>\n",
       "      <td>0.18</td>\n",
       "      <td>0.1</td>\n",
       "    </tr>\n",
       "    <tr>\n",
       "      <th>0.72</th>\n",
       "      <td>0.1</td>\n",
       "      <td>0.72</td>\n",
       "      <td>0.1</td>\n",
       "      <td>0.18</td>\n",
       "      <td>0.21</td>\n",
       "      <td>0.18</td>\n",
       "      <td>0.1</td>\n",
       "    </tr>\n",
       "    <tr>\n",
       "      <th>0.80</th>\n",
       "      <td>0.1</td>\n",
       "      <td>0.80</td>\n",
       "      <td>0.1</td>\n",
       "      <td>0.18</td>\n",
       "      <td>0.21</td>\n",
       "      <td>0.18</td>\n",
       "      <td>0.1</td>\n",
       "    </tr>\n",
       "  </tbody>\n",
       "</table>\n",
       "</div>"
      ],
      "text/plain": [
       "ind_dim  (0,)  (1,)  (2,)  (3,)  (4,)  (5,)  (6,)\n",
       "grid                                             \n",
       "0.10      0.1  0.10   0.1  0.18  0.21  0.18   0.1\n",
       "0.18      0.1  0.18   0.1  0.18  0.21  0.18   0.1\n",
       "0.26      0.1  0.26   0.1  0.18  0.21  0.18   0.1\n",
       "0.33      0.1  0.33   0.1  0.18  0.21  0.18   0.1\n",
       "0.41      0.1  0.41   0.1  0.18  0.21  0.18   0.1\n",
       "0.49      0.1  0.49   0.1  0.18  0.21  0.18   0.1\n",
       "0.57      0.1  0.57   0.1  0.18  0.21  0.18   0.1\n",
       "0.64      0.1  0.64   0.1  0.18  0.21  0.18   0.1\n",
       "0.72      0.1  0.72   0.1  0.18  0.21  0.18   0.1\n",
       "0.80      0.1  0.80   0.1  0.18  0.21  0.18   0.1"
      ]
     },
     "execution_count": 8,
     "metadata": {},
     "output_type": "execute_result"
    }
   ],
   "source": [
    "# create a `df_state_init_x` with different surface properties\n",
    "n_test = 10\n",
    "list_alb_test = np.linspace(0.1, 0.8, n_test).round(2)\n",
    "df_state_init_x = (\n",
    "    pd.concat(\n",
    "        {alb: df_state_init_test for alb in list_alb_test},\n",
    "        names=[\"alb\", \"grid\"],\n",
    "    )\n",
    "    .droplevel(\"grid\", axis=0)\n",
    "    .rename_axis(index=\"grid\")\n",
    ")\n",
    "\n",
    "# here we modify surface albedo\n",
    "df_state_init_x.loc[:, (\"alb\", \"(1,)\")] = list_alb_test\n",
    "df_state_init_x.alb\n"
   ]
  },
  {
   "cell_type": "markdown",
   "metadata": {},
   "source": [
    "### Conduct simulations with `supy`"
   ]
  },
  {
   "cell_type": "code",
   "execution_count": 9,
   "metadata": {
    "ExecuteTime": {
     "end_time": "2020-07-05T23:38:12.736694Z",
     "start_time": "2020-07-05T23:36:26.877780Z"
    }
   },
   "outputs": [],
   "source": [
    "df_forcing_part = df_forcing.loc[\"2012 01\":\"2012 07\"]\n",
    "df_res_alb_test, df_state_final_x = sp.run_supy(\n",
    "    df_forcing_part,\n",
    "    df_state_init_x,\n",
    "    logging_level=90,\n",
    ")\n"
   ]
  },
  {
   "cell_type": "markdown",
   "metadata": {},
   "source": [
    "### Examine the simulation results"
   ]
  },
  {
   "cell_type": "code",
   "execution_count": 10,
   "metadata": {
    "ExecuteTime": {
     "end_time": "2020-07-05T23:38:41.171013Z",
     "start_time": "2020-07-05T23:38:34.457161Z"
    }
   },
   "outputs": [],
   "source": [
    "# choose results of July 2012 for analysis\n",
    "df_res_alb_test_july = df_res_alb_test.SUEWS.unstack(0).loc[\"2012 7\"]\n",
    "df_res_alb_T2_stat = df_res_alb_test_july.T2.describe()\n",
    "df_res_alb_T2_diff = df_res_alb_T2_stat.transform(\n",
    "    lambda x: x - df_res_alb_T2_stat.iloc[:, 0]\n",
    ")\n",
    "df_res_alb_T2_diff.columns = list_alb_test - list_alb_test[0]"
   ]
  },
  {
   "cell_type": "code",
   "execution_count": 22,
   "metadata": {
    "ExecuteTime": {
     "end_time": "2020-07-05T23:38:42.866350Z",
     "start_time": "2020-07-05T23:38:42.197144Z"
    },
    "scrolled": false
   },
   "outputs": [
    {
     "data": {
      "image/png": "[encoded data removed]",
      "text/plain": [
       "<Figure size 640x480 with 1 Axes>"
      ]
     },
     "metadata": {},
     "output_type": "display_data"
    }
   ],
   "source": [
    "# plot the temperature difference\n",
    "ax_temp_diff = df_res_alb_T2_diff.loc[[\"max\", \"mean\", \"min\"]].T.plot()\n",
    "_ = ax_temp_diff.set_ylabel(r\"$\\Delta T_2$ ($^\\circ$C)\")\n",
    "_ = ax_temp_diff.set_xlabel(r\"$\\Delta\\alpha$\")\n",
    "ax_temp_diff.margins(x=0.2, y=0.2)\n"
   ]
  },
  {
   "cell_type": "markdown",
   "metadata": {},
   "source": [
    "## Background climate: air temperature"
   ]
  },
  {
   "cell_type": "markdown",
   "metadata": {},
   "source": [
    "### Examine the monthly climatology of air temperature loaded from the sample dataset"
   ]
  },
  {
   "cell_type": "code",
   "execution_count": 26,
   "metadata": {
    "ExecuteTime": {
     "end_time": "2020-07-05T23:38:58.805601Z",
     "start_time": "2020-07-05T23:38:58.666883Z"
    },
    "scrolled": true
   },
   "outputs": [
    {
     "data": {
      "image/png": "[encoded data removed]",
      "text/plain": [
       "<Figure size 640x480 with 1 Axes>"
      ]
     },
     "metadata": {},
     "output_type": "display_data"
    }
   ],
   "source": [
    "df_plot = df_forcing.Tair.loc[\"2012\"].resample(\"1m\").mean()\n",
    "ax_temp = df_plot.plot.bar(color=\"tab:blue\")\n",
    "_ = ax_temp.set_xticklabels(df_plot.index.strftime(\"%b\"))\n",
    "_ = ax_temp.set_ylabel(r\"Mean Air Temperature ($^\\circ$C)\")\n",
    "_ = ax_temp.set_xlabel(\"Month\")"
   ]
  },
  {
   "cell_type": "markdown",
   "metadata": {},
   "source": [
    "### Construct a function to perform parallel `supy` simulations with specified `diff_airtemp_test`: the difference in air temperature between the one used in simulation and loaded from sample dataset."
   ]
  },
  {
   "cell_type": "markdown",
   "metadata": {},
   "source": [
    "<div class=\"alert alert-info\">\n",
    "\n",
    "Note\n",
    "\n",
    "forcing data `df_forcing` has different data structure from `df_state_init`; so we need to modify `run_supy_mgrids` to implement a `run_supy_mclims` for different climate scenarios*\n",
    "\n",
    "</div> "
   ]
  },
  {
   "cell_type": "markdown",
   "metadata": {},
   "source": [
    "Let's start the implementation of `run_supy_mclims` with a small problem of four forcing groups (i.e., climate scenarios), where the air temperatures differ from the baseline scenario with a constant bias."
   ]
  },
  {
   "cell_type": "code",
   "execution_count": 27,
   "metadata": {
    "ExecuteTime": {
     "end_time": "2020-07-05T23:39:01.901875Z",
     "start_time": "2020-07-05T23:39:01.895854Z"
    }
   },
   "outputs": [],
   "source": [
    "# save loaded sample datasets\n",
    "df_forcing_part_test = df_forcing.loc[\"2012 1\":\"2012 7\"].copy()\n",
    "df_state_init_test = df_state_init.copy()"
   ]
  },
  {
   "cell_type": "code",
   "execution_count": 28,
   "metadata": {
    "ExecuteTime": {
     "end_time": "2020-07-05T23:39:44.092708Z",
     "start_time": "2020-07-05T23:39:44.051086Z"
    }
   },
   "outputs": [],
   "source": [
    "from dask import delayed\n",
    "\n",
    "# create a dict with four forcing conditions as a test\n",
    "n_test = 4\n",
    "list_TairDiff_test = np.linspace(0.0, 2, n_test).round(2)\n",
    "dict_df_forcing_x = {\n",
    "    tairdiff: df_forcing_part_test.copy() for tairdiff in list_TairDiff_test\n",
    "}\n",
    "for tairdiff in dict_df_forcing_x:\n",
    "    dict_df_forcing_x[tairdiff].loc[:, \"Tair\"] += tairdiff\n",
    "\n",
    "dd_forcing_x = {\n",
    "    k: delayed(sp.run_supy)(df, df_state_init_test, logging_level=90)[0]\n",
    "    for k, df in dict_df_forcing_x.items()\n",
    "}\n",
    "\n",
    "\n",
    "df_res_tairdiff_test0 = delayed(pd.concat)(\n",
    "    dd_forcing_x,\n",
    "    keys=list_TairDiff_test,\n",
    "    names=[\"tairdiff\"],\n",
    ")"
   ]
  },
  {
   "cell_type": "code",
   "execution_count": 30,
   "metadata": {
    "ExecuteTime": {
     "end_time": "2020-07-05T23:40:16.780816Z",
     "start_time": "2020-07-05T23:39:46.974269Z"
    }
   },
   "outputs": [
    {
     "name": "stdout",
     "output_type": "stream",
     "text": [
      "Execution time: 17.31 s\n"
     ]
    }
   ],
   "source": [
    "# test the performance of a parallel run\n",
    "t0 = time()\n",
    "df_res_tairdiff_test = df_res_tairdiff_test0.compute(scheduler=\"threads\").reset_index(\n",
    "    \"grid\", drop=True\n",
    ")\n",
    "t1 = time()\n",
    "t_par = t1 - t0\n",
    "print(f\"Execution time: {t_par:.2f} s\")"
   ]
  },
  {
   "cell_type": "code",
   "execution_count": 16,
   "metadata": {
    "ExecuteTime": {
     "end_time": "2020-07-05T23:40:16.787996Z",
     "start_time": "2020-07-05T23:40:16.783089Z"
    }
   },
   "outputs": [],
   "source": [
    "# function for multi-climate `run_supy`\n",
    "# wrapping the above code into one\n",
    "def run_supy_mclims(df_state_init, dict_df_forcing_mclims):\n",
    "    dd_forcing_x = {\n",
    "        k: delayed(sp.run_supy)(df, df_state_init_test, logging_level=90)[0]\n",
    "        for k, df in dict_df_forcing_x.items()\n",
    "    }\n",
    "    df_output_mclims0 = delayed(pd.concat)(\n",
    "        dd_forcing_x,\n",
    "        keys=list(dict_df_forcing_x.keys()),\n",
    "        names=[\"clm\"],\n",
    "    ).compute(scheduler=\"threads\")\n",
    "    df_output_mclims = df_output_mclims0.reset_index(\"grid\", drop=True)\n",
    "\n",
    "    return df_output_mclims"
   ]
  },
  {
   "cell_type": "markdown",
   "metadata": {},
   "source": [
    "### Construct `dict_df_forcing_x` with multiple forcing `DataFrame`s"
   ]
  },
  {
   "cell_type": "code",
   "execution_count": 17,
   "metadata": {
    "ExecuteTime": {
     "end_time": "2020-07-05T23:40:39.252196Z",
     "start_time": "2020-07-05T23:40:39.043049Z"
    }
   },
   "outputs": [],
   "source": [
    "# save loaded sample datasets\n",
    "df_forcing_part_test = df_forcing.loc[\"2012 1\":\"2012 7\"].copy()\n",
    "df_state_init_test = df_state_init.copy()\n",
    "\n",
    "# create a dict with a number of forcing conditions\n",
    "n_test = 12  # can be set with a smaller value to save simulation time\n",
    "list_TairDiff_test = np.linspace(0.0, 2, n_test).round(2)\n",
    "dict_df_forcing_x = {\n",
    "    tairdiff: df_forcing_part_test.copy() for tairdiff in list_TairDiff_test\n",
    "}\n",
    "for tairdiff in dict_df_forcing_x:\n",
    "    dict_df_forcing_x[tairdiff].loc[:, \"Tair\"] += tairdiff"
   ]
  },
  {
   "cell_type": "markdown",
   "metadata": {},
   "source": [
    "### Perform simulations"
   ]
  },
  {
   "cell_type": "code",
   "execution_count": null,
   "metadata": {
    "ExecuteTime": {
     "end_time": "2020-07-05T23:43:45.567499Z",
     "start_time": "2020-07-05T23:40:41.967740Z"
    }
   },
   "outputs": [
    {
     "name": "stdout",
     "output_type": "stream",
     "text": [
      "Execution time: 46.97 s\n"
     ]
    }
   ],
   "source": [
    "# run parallel simulations using `run_supy_mclims`\n",
    "t0 = time()\n",
    "df_airtemp_test_x = run_supy_mclims(df_state_init_test, dict_df_forcing_x)\n",
    "t1 = time()\n",
    "t_par = t1 - t0\n",
    "print(f\"Execution time: {t_par:.2f} s\")"
   ]
  },
  {
   "cell_type": "markdown",
   "metadata": {},
   "source": [
    "### Examine the results"
   ]
  },
  {
   "cell_type": "code",
   "execution_count": 24,
   "metadata": {
    "ExecuteTime": {
     "end_time": "2020-07-05T23:43:47.284425Z",
     "start_time": "2020-07-05T23:43:45.569834Z"
    }
   },
   "outputs": [],
   "source": [
    "df_airtemp_test = df_airtemp_test_x.SUEWS.unstack(0)\n",
    "df_temp_diff = df_airtemp_test.T2.transform(lambda x: x - df_airtemp_test.T2[0.0])\n",
    "df_temp_diff_ana = df_temp_diff.loc[\"2012 7\"]\n",
    "df_temp_diff_stat = df_temp_diff_ana.describe().loc[[\"max\", \"mean\", \"min\"]].T"
   ]
  },
  {
   "cell_type": "code",
   "execution_count": 25,
   "metadata": {
    "ExecuteTime": {
     "end_time": "2020-07-05T23:43:47.442984Z",
     "start_time": "2020-07-05T23:43:47.286441Z"
    }
   },
   "outputs": [
    {
     "data": {
      "image/png": "[encoded data removed]",
      "text/plain": [
       "<Figure size 640x480 with 1 Axes>"
      ]
     },
     "metadata": {},
     "output_type": "display_data"
    }
   ],
   "source": [
    "ax_temp_diff_stat = df_temp_diff_stat.plot()\n",
    "_ = ax_temp_diff_stat.set_ylabel(r\"$\\Delta T_2$ ($^\\circ$C)\")\n",
    "_ = ax_temp_diff_stat.set_xlabel(r\"$\\Delta T_{a}$ ($^\\circ$C)\")\n",
    "ax_temp_diff_stat.set_aspect(\"equal\")"
   ]
  },
  {
   "cell_type": "markdown",
   "metadata": {},
   "source": [
    "The $T_{2}$ results indicate the increased $T_{a}$ has different impacts on the $T_{2}$ metrics (minimum, mean and maximum) but all increase linearly with $T_{a}.$ The maximum $T_{2}$ has the stronger response compared to the other metrics."
   ]
  }
 ],
 "metadata": {
  "file_extension": ".py",
  "hide_input": false,
  "kernelspec": {
   "display_name": "Python 3",
   "language": "python",
   "name": "python3"
  },
  "language_info": {
   "codemirror_mode": {
    "name": "ipython",
    "version": 3
   },
   "file_extension": ".py",
   "mimetype": "text/x-python",
   "name": "python",
   "nbconvert_exporter": "python",
   "pygments_lexer": "ipython3",
   "version": "3.12.9"
  },
  "mimetype": "text/x-python",
  "name": "python",
  "npconvert_exporter": "python",
  "pygments_lexer": "ipython3",
  "toc": {
   "base_numbering": 1,
   "nav_menu": {
    "height": "198px",
    "width": "164px"
   },
   "number_sections": true,
   "sideBar": true,
   "skip_h1_title": true,
   "title_cell": "Table of Contents",
   "title_sidebar": "Contents",
   "toc_cell": false,
   "toc_position": {
    "height": "calc(100% - 180px)",
    "left": "10px",
    "top": "150px",
    "width": "262.6px"
   },
   "toc_section_display": true,
   "toc_window_display": true
  },
  "varInspector": {
   "cols": {
    "lenName": 16,
    "lenType": 16,
    "lenVar": 40
   },
   "kernels_config": {
    "python": {
     "delete_cmd_postfix": "",
     "delete_cmd_prefix": "del ",
     "library": "var_list.py",
     "varRefreshCmd": "print(var_dic_list())"
    },
    "r": {
     "delete_cmd_postfix": ") ",
     "delete_cmd_prefix": "rm(",
     "library": "var_list.r",
     "varRefreshCmd": "cat(var_dic_list()) "
    }
   },
   "types_to_exclude": [
    "module",
    "function",
    "builtin_function_or_method",
    "instance",
    "_Feature"
   ],
   "window_display": false
  },
  "version": 3
 },
 "nbformat": 4,
 "nbformat_minor": 2
}
